{
 "cells": [
  {
   "cell_type": "markdown",
   "metadata": {
    "deletable": true,
    "editable": true
   },
   "source": [
    "# Self-Driving Car Engineer Nanodegree\n",
    "\n",
    "## Deep Learning\n",
    "\n",
    "## Project: Build a Traffic Sign Recognition Classifier\n",
    "\n",
    "In this notebook, a template is provided for you to implement your functionality in stages, which is required to successfully complete this project. If additional code is required that cannot be included in the notebook, be sure that the Python code is successfully imported and included in your submission if necessary. \n",
    "\n",
    "> **Note**: Once you have completed all of the code implementations, you need to finalize your work by exporting the iPython Notebook as an HTML document. Before exporting the notebook to html, all of the code cells need to have been run so that reviewers can see the final implementation and output. You can then export the notebook by using the menu above and navigating to  \\n\",\n",
    "    \"**File -> Download as -> HTML (.html)**. Include the finished document along with this notebook as your submission. \n",
    "\n",
    "In addition to implementing code, there is a writeup to complete. The writeup should be completed in a separate file, which can be either a markdown file or a pdf document. There is a [write up template](https://github.com/udacity/CarND-Traffic-Sign-Classifier-Project/blob/master/writeup_template.md) that can be used to guide the writing process. Completing the code template and writeup template will cover all of the [rubric points](https://review.udacity.com/#!/rubrics/481/view) for this project.\n",
    "\n",
    "The [rubric](https://review.udacity.com/#!/rubrics/481/view) contains \"Stand Out Suggestions\" for enhancing the project beyond the minimum requirements. The stand out suggestions are optional. If you decide to pursue the \"stand out suggestions\", you can include the code in this Ipython notebook and also discuss the results in the writeup file.\n",
    "\n",
    "\n",
    ">**Note:** Code and Markdown cells can be executed using the **Shift + Enter** keyboard shortcut. In addition, Markdown cells can be edited by typically double-clicking the cell to enter edit mode."
   ]
  },
  {
   "cell_type": "markdown",
   "metadata": {
    "deletable": true,
    "editable": true
   },
   "source": [
    "---\n",
    "## Step 0: Load The Data"
   ]
  },
  {
   "cell_type": "code",
   "execution_count": 1,
   "metadata": {
    "collapsed": false,
    "deletable": true,
    "editable": true
   },
   "outputs": [],
   "source": [
    "# Load pickled data\n",
    "import pickle\n",
    "\n",
    "training_file = 'train.p'\n",
    "validation_file='valid.p'\n",
    "testing_file = 'test.p'\n",
    "\n",
    "with open(training_file, mode='rb') as f:\n",
    "    train = pickle.load(f)\n",
    "with open(validation_file, mode='rb') as f:\n",
    "    valid = pickle.load(f)\n",
    "with open(testing_file, mode='rb') as f:\n",
    "    test = pickle.load(f)\n",
    "    \n",
    "X_train_file, y_train_file = train['features'], train['labels']\n",
    "X_valid_file, y_valid_file = valid['features'], valid['labels']\n",
    "X_test_org, y_test = test['features'], test['labels']\n",
    "\n",
    "assert(len(X_train_file) == len(y_train_file))\n",
    "assert(len(X_valid_file) == len(y_valid_file))\n",
    "assert(len(X_test_org) == len(y_test))"
   ]
  },
  {
   "cell_type": "markdown",
   "metadata": {
    "deletable": true,
    "editable": true
   },
   "source": [
    "---\n",
    "\n",
    "## Step 1: Dataset Summary & Exploration\n",
    "\n",
    "The pickled data is a dictionary with 4 key/value pairs:\n",
    "\n",
    "- `'features'` is a 4D array containing raw pixel data of the traffic sign images, (num examples, width, height, channels).\n",
    "- `'labels'` is a 1D array containing the label/class id of the traffic sign. The file `signnames.csv` contains id -> name mappings for each id.\n",
    "- `'sizes'` is a list containing tuples, (width, height) representing the original width and height the image.\n",
    "- `'coords'` is a list containing tuples, (x1, y1, x2, y2) representing coordinates of a bounding box around the sign in the image. **THESE COORDINATES ASSUME THE ORIGINAL IMAGE. THE PICKLED DATA CONTAINS RESIZED VERSIONS (32 by 32) OF THESE IMAGES**\n",
    "\n",
    "Complete the basic data summary below. Use python, numpy and/or pandas methods to calculate the data summary rather than hard coding the results. For example, the [pandas shape method](http://pandas.pydata.org/pandas-docs/stable/generated/pandas.DataFrame.shape.html) might be useful for calculating some of the summary results. "
   ]
  },
  {
   "cell_type": "markdown",
   "metadata": {
    "deletable": true,
    "editable": true
   },
   "source": [
    "### Provide a Basic Summary of the Data Set Using Python, Numpy and/or Pandas"
   ]
  },
  {
   "cell_type": "code",
   "execution_count": 2,
   "metadata": {
    "collapsed": false,
    "deletable": true,
    "editable": true
   },
   "outputs": [
    {
     "name": "stdout",
     "output_type": "stream",
     "text": [
      "Number of training examples = 34799\n",
      "Number of validation examples = 4410\n",
      "Number of testing examples = 12630\n",
      "Image data shape = (32, 32, 3)\n",
      "Number of classes = 43\n"
     ]
    }
   ],
   "source": [
    "###  \n",
    "### Summary of input data\n",
    "import numpy as np\n",
    "from scipy import ndimage\n",
    "import random\n",
    "from sklearn.utils import shuffle\n",
    "import cv2\n",
    "import PIL\n",
    "from PIL import Image\n",
    "import matplotlib.pyplot as plt\n",
    "%matplotlib inline\n",
    "\n",
    "###\n",
    "### Change validation set size if we want. \n",
    "### We can use the given validation data, but because it is migth be too small (11%) we can take a bigger validation (20%)\n",
    "### The default configuration is to stay with the givven validation data (we set change_valid_size_en=0)\n",
    "change_valid_size_en = 0\n",
    "if (change_valid_size_en): \n",
    "    valid_percentage=20\n",
    "    n_file_input = len(y_train_file) + len(y_valid_file)\n",
    "    n_valid = ((valid_percentage*n_file_input)//100)\n",
    "    n_train = n_file_input-n_valid\n",
    "    X_train_file, y_train_file = shuffle(X_train_file, y_train_file)\n",
    "\n",
    "    assert((valid_percentage*n_file_input)//100 > len(y_valid_file))\n",
    "    X_train_org = X_train_file[0:n_train,:,:,:]\n",
    "    y_train_org = y_train_file[0:n_train]\n",
    "    X_valid_org = np.vstack((X_valid_file,X_train_file[n_train:-1]))\n",
    "    y_valid = np.concatenate((y_valid_file,y_train_file[n_train:-1]))\n",
    "else:\n",
    "    X_train_org = X_train_file\n",
    "    y_train_org = y_train_file\n",
    "    X_valid_org = X_valid_file\n",
    "    y_valid = y_valid_file\n",
    "\n",
    "\n",
    "# Number of train, validation, testing examples.\n",
    "n_train = len(y_train_org)\n",
    "n_valid = len(y_valid) \n",
    "n_test = len(y_test)\n",
    "\n",
    "# shape of the traffic sign image?\n",
    "image_shape = X_train_org[0].shape\n",
    "\n",
    "# How many unique classes/labels there are in the dataset.\n",
    "y_all=np.append(y_train_org,y_valid)\n",
    "n_classes = len(np.unique(y_all))\n",
    "\n",
    "print(\"Number of training examples =\", n_train)\n",
    "print(\"Number of validation examples =\", n_valid)\n",
    "print(\"Number of testing examples =\", n_test)\n",
    "print(\"Image data shape =\", image_shape)\n",
    "print(\"Number of classes =\", n_classes)"
   ]
  },
  {
   "cell_type": "markdown",
   "metadata": {
    "deletable": true,
    "editable": true
   },
   "source": [
    "### Include an exploratory visualization of the dataset"
   ]
  },
  {
   "cell_type": "markdown",
   "metadata": {
    "deletable": true,
    "editable": true
   },
   "source": [
    "Visualize the German Traffic Signs Dataset using the pickled file(s). This is open ended, suggestions include: plotting traffic sign images, plotting the count of each sign, etc.\n",
    "\n",
    "The [Matplotlib](http://matplotlib.org/) [examples](http://matplotlib.org/examples/index.html) and [gallery](http://matplotlib.org/gallery.html) pages are a great resource for doing visualizations in Python.\n",
    "\n",
    "**NOTE:** It's recommended you start with something simple first. If you wish to do more, come back to it after you've completed the rest of the sections."
   ]
  },
  {
   "cell_type": "markdown",
   "metadata": {
    "deletable": true,
    "editable": true
   },
   "source": [
    "----\n",
    "\n",
    "## Step 2: Design and Test a Model Architecture\n",
    "\n",
    "Design and implement a deep learning model that learns to recognize traffic signs. Train and test your model on the [German Traffic Sign Dataset](http://benchmark.ini.rub.de/?section=gtsrb&subsection=dataset).\n",
    "\n",
    "The LeNet-5 implementation shown in the [classroom](https://classroom.udacity.com/nanodegrees/nd013/parts/fbf77062-5703-404e-b60c-95b78b2f3f9e/modules/6df7ae49-c61c-4bb2-a23e-6527e69209ec/lessons/601ae704-1035-4287-8b11-e2c2716217ad/concepts/d4aca031-508f-4e0b-b493-e7b706120f81) at the end of the CNN lesson is a solid starting point. You'll have to change the number of classes and possibly the preprocessing, but aside from that it's plug and play! \n",
    "\n",
    "With the LeNet-5 solution from the lecture, you should expect a validation set accuracy of about 0.89. To meet specifications, the validation set accuracy will need to be at least 0.93. It is possible to get an even higher accuracy, but 0.93 is the minimum for a successful project submission. \n",
    "\n",
    "There are various aspects to consider when thinking about this problem:\n",
    "\n",
    "- Neural network architecture (is the network over or underfitting?)\n",
    "- Play around preprocessing techniques (normalization, rgb to grayscale, etc)\n",
    "- Number of examples per label (some have more than others).\n",
    "- Generate fake data.\n",
    "\n",
    "Here is an example of a [published baseline model on this problem](http://yann.lecun.com/exdb/publis/pdf/sermanet-ijcnn-11.pdf). It's not required to be familiar with the approach used in the paper but, it's good practice to try to read papers like these."
   ]
  },
  {
   "cell_type": "code",
   "execution_count": 3,
   "metadata": {
    "collapsed": false,
    "deletable": true,
    "editable": true
   },
   "outputs": [],
   "source": [
    "###\n",
    "### Help functions\n",
    "\n",
    "### preprocess: \n",
    "###   Input: Get 4D array of RGB pictures \n",
    "###\n",
    "###   Transform it to a gray sacle pictures (3D array)\n",
    "###   From each picture we normalize it by:\n",
    "###       a) subtracting the mean\n",
    "###       b) dividing by the difference between the max and the min values\n",
    "###   \n",
    "###   Output: 4D array of pictures, the last dimension is 1 (gray scale)\n",
    "def preprocess(img_in):\n",
    "    depth=img_in.shape[0]\n",
    "    size=img_in.shape[1]\n",
    "    \n",
    "    ## move to gray scale\n",
    "    img = img_in[:,:,:,0]*0.2989 + img_in[:,:,:,1]*0.5870 + img_in[:,:,:,2]*0.1140\n",
    "    \n",
    "    ## normalize\n",
    "    img_mean = img.mean(axis=1).mean(axis=1)\n",
    "    img_min = img.min(axis=1).min(axis=1)\n",
    "    img_max = img.max(axis=1).max(axis=1)\n",
    "    \n",
    "    corr = np.zeros(shape=(depth,1,1))\n",
    "    corr[:,0,0]=img_mean\n",
    "    corr = np.tile(corr, (1,size,size))\n",
    "    img = (img-corr)\n",
    "    \n",
    "    corr = np.zeros(shape=(depth,1,1))\n",
    "    corr[:,0,0]=(img_max-img_min)\n",
    "    corr = np.tile(corr, (1,size,size))\n",
    "    img = img/corr\n",
    "    \n",
    "    img = np.expand_dims(img,3)\n",
    "    return img\n",
    "\n",
    "### get_fake_data: \n",
    "###   Input: Get 2D image (gray scale) \n",
    "###\n",
    "###   Transform it by:\n",
    "###       a) rotate it be a random degrees between (-10 to 10)\n",
    "###       b) zoom it be a random factor between (0.95 to 1.05)\n",
    "###       c) shift it be a random number of pixels in each axis between (-2 to 2)\n",
    "###   \n",
    "###   Output: 2D image\n",
    "def get_fake_data(img_in):\n",
    "    rot = random.randint(-10, 10)\n",
    "    rsz = random.uniform(0.95, 1.05)\n",
    "    shx = random.randint(-2,2)\n",
    "    shy = random.randint(-2,2)\n",
    "    \n",
    "    (h, w) = img_in.shape[:2]\n",
    "    center = (w / 2, h / 2)\n",
    "    M = cv2.getRotationMatrix2D(center, rot, rsz)\n",
    "    img = cv2.warpAffine(img_in, M, (w, h))\n",
    "    \n",
    "    img=ndimage.interpolation.shift(img,[shy,shx],mode='nearest')\n",
    "    return img\n",
    "\n",
    "\n",
    "### plot_histo: \n",
    "###   Plot histogram according to the hist and bins \n",
    "def plot_histo(hist, bins):\n",
    "    width = 0.7 * (bins[1] - bins[0])\n",
    "    center = (bins[:-1] + bins[1:]) / 2\n",
    "    plt.figure()\n",
    "    plt.bar(center, hist, align='center', width=width)\n",
    "    plt.show() "
   ]
  },
  {
   "cell_type": "markdown",
   "metadata": {
    "deletable": true,
    "editable": true
   },
   "source": [
    "### Balance the training data and Generate fake data"
   ]
  },
  {
   "cell_type": "code",
   "execution_count": 4,
   "metadata": {
    "collapsed": false,
    "deletable": true,
    "editable": true
   },
   "outputs": [
    {
     "name": "stdout",
     "output_type": "stream",
     "text": [
      "Sign Index =  25\n",
      "Original image      -->  After Preprocess-->  After adding jitter\n"
     ]
    },
    {
     "data": {
      "image/png": "[encoded data removed]",
      "text/plain": [
       "<matplotlib.figure.Figure at 0x6fa1940>"
      ]
     },
     "metadata": {},
     "output_type": "display_data"
    }
   ],
   "source": [
    "###\n",
    "### Data exploration visualization code goes here.\n",
    "index = random.randint(0, len(X_train_org))\n",
    "image = X_train_org[index]\n",
    "image = np.expand_dims(image,0)\n",
    "image_after_pp = preprocess(image)\n",
    "image_after_pp_fake = get_fake_data(image_after_pp.squeeze())\n",
    "\n",
    "plt.figure(figsize=(8,8))\n",
    "plt.subplot(1,3,1)\n",
    "plt.imshow(image.squeeze())\n",
    "plt.subplot(1,3,2)\n",
    "plt.imshow(image_after_pp.squeeze(), 'gray')\n",
    "plt.subplot(1,3,3)\n",
    "plt.imshow(image_after_pp_fake, 'gray')\n",
    "print(\"Sign Index = \",y_train_org[index])\n",
    "print(\"Original image      -->  After Preprocess-->  After adding jitter\")\n"
   ]
  },
  {
   "cell_type": "markdown",
   "metadata": {
    "deletable": true,
    "editable": true
   },
   "source": [
    "### Pre-process the Data Set (normalization, grayscale, etc.)"
   ]
  },
  {
   "cell_type": "markdown",
   "metadata": {
    "deletable": true,
    "editable": true
   },
   "source": [
    "Use the code cell (or multiple code cells, if necessary) to implement the first step of your project."
   ]
  },
  {
   "cell_type": "code",
   "execution_count": 5,
   "metadata": {
    "collapsed": false,
    "deletable": true,
    "editable": true
   },
   "outputs": [
    {
     "name": "stdout",
     "output_type": "stream",
     "text": [
      "Original number of training examples = 34799\n",
      "Distribution Of original Training Data:\n"
     ]
    },
    {
     "data": {
      "image/png": "[encoded data removed]",
      "text/plain": [
       "<matplotlib.figure.Figure at 0xd56a2e8>"
      ]
     },
     "metadata": {},
     "output_type": "display_data"
    },
    {
     "name": "stdout",
     "output_type": "stream",
     "text": [
      "Number of training examples after balancing = 77397\n",
      "Distribution after balancing the Training Data:\n"
     ]
    },
    {
     "data": {
      "image/png": "[encoded data removed]",
      "text/plain": [
       "<matplotlib.figure.Figure at 0xd483860>"
      ]
     },
     "metadata": {},
     "output_type": "display_data"
    },
    {
     "name": "stdout",
     "output_type": "stream",
     "text": [
      "Number of training examples after generating fake data = 154794\n"
     ]
    }
   ],
   "source": [
    "### Preprocess the data here. Preprocessing steps could include normalization, converting to grayscale, etc.\n",
    "### Feel free to use as many code cells as needed.\n",
    "\n",
    "###\n",
    "### Configuration:\n",
    "###   a) use_a_priory_dist: {0,1} -  If we assume that there is an a-priori distribution for the inputs. If we enable it we will take the \n",
    "###      pdf estimation into account in the cross entropy calculation\n",
    "###   b) balance_en: {0,1} - If we want to balance the input samples in the training set\n",
    "###   c) add_fake_data_en: {0,1} - if we want to add some \"fake\" input samples\n",
    "use_a_priory_dist = 1\n",
    "balance_en        = 1\n",
    "add_fake_data_en  = 1 \n",
    "\n",
    "###\n",
    "### Extracting the input distribution \n",
    "hist, bins = np.histogram(y_train_org, bins=n_classes)\n",
    "if (use_a_priory_dist==1):\n",
    "    a_priory_correct = np.log(hist/np.sum(hist))\n",
    "else:\n",
    "    a_priory_correct = np.zeros(shape=hist.shape)\n",
    "\n",
    "### \n",
    "### Plotting the original histogram\n",
    "print(\"Original number of training examples =\", n_train)\n",
    "print(\"Distribution Of original Training Data:\")\n",
    "plot_histo(hist, bins)\n",
    "\n",
    "###  \n",
    "### Preparring the training data\n",
    "###   a) Preprocessing: gray scale + normalization\n",
    "###   b) balancing the data\n",
    "###   c) Generate fake data\n",
    "\n",
    "###\n",
    "### gray scale + normalization\n",
    "n_colors = 1 # we use gray sacle\n",
    "X_train_pp = preprocess(X_train_org)\n",
    "X_valid = preprocess(X_valid_org)\n",
    "X_test = preprocess(X_test_org)\n",
    "y_train_pp = y_train_org\n",
    " \n",
    "\n",
    "###\n",
    "### balancing the data. - each class will have at least \"class_minimal_val\" samples\n",
    "### - \"class_minimal_val\" is set to be the value of the average+std of the original samples\n",
    "### - For each class we calculate by what factor we have multiply each sample from this class.\n",
    "### - Each new sample is also jitterred from the original sample (rotation+zoom+shift)\n",
    "class_minimal_val = 0\n",
    "if (balance_en):\n",
    "    class_minimal_val = hist.mean()+hist.std()\n",
    "    \n",
    "balance_per_class = class_minimal_val-hist\n",
    "balance_per_inst = np.ceil(balance_per_class/hist)\n",
    "balance_per_inst = balance_per_inst.clip(min=0.0).astype(int)\n",
    "n_train_bal = n_train + (balance_per_inst*hist).sum()\n",
    "\n",
    "X_train_bal =np.zeros(shape=(n_train_bal,image_shape[0],image_shape[1],1))\n",
    "y_train_bal = np.zeros(shape=(n_train_bal))\n",
    "\n",
    "X_train_bal[0:n_train,] = X_train_pp\n",
    "y_train_bal[0:n_train] = y_train_pp\n",
    "\n",
    "pad_position=0\n",
    "for i in range(n_train):\n",
    "    for k in range(balance_per_inst[y_train_pp[i]]):\n",
    "        X_train_bal[n_train+pad_position,:,:,0] = get_fake_data(X_train_pp[i])\n",
    "        y_train_bal[n_train+pad_position] = y_train_pp[i]\n",
    "        pad_position+=1\n",
    "\n",
    "print(\"Number of training examples after balancing =\", n_train_bal)\n",
    "print(\"Distribution after balancing the Training Data:\")\n",
    "\n",
    "### \n",
    "### Plotting the \"balanced\" histogram\n",
    "hist_bal, bin_bal = np.histogram(y_train_bal, bins=n_classes)\n",
    "plot_histo(hist_bal, bin_bal)\n",
    "\n",
    "\n",
    "###\n",
    "### Generate fake data - \"factor\" select by what factor we will increase the number of input sample\n",
    "###  - We set \"facor\" to 2 as default\n",
    "###  - We keep the same distribution\n",
    "### - Each new sample is also jitterred from the original sample (rotation+zoom+shift)\n",
    "factor = 1 \n",
    "if (add_fake_data_en):\n",
    "    factor = 2\n",
    "    \n",
    "X_train = np.zeros(shape=(factor*n_train_bal,image_shape[0],image_shape[1],1))\n",
    "y_train = np.zeros(shape=factor*y_train_bal.shape[0])\n",
    "\n",
    "X_train[0:n_train_bal,] = X_train_bal\n",
    "y_train[0:n_train_bal] = y_train_bal\n",
    "\n",
    "for i in range((factor-1)*n_train):\n",
    "    X_train[n_train+i,:,:,0] = get_fake_data(X_train[i%n_train])\n",
    "    y_train[n_train+i]=y_train_org[i%n_train]\n",
    "\n",
    "print(\"Number of training examples after generating fake data =\", y_train.shape[0])\n",
    "      \n",
    "###\n",
    "### shuffle the data\n",
    "X_train, y_train = shuffle(X_train, y_train)"
   ]
  },
  {
   "cell_type": "markdown",
   "metadata": {
    "deletable": true,
    "editable": true
   },
   "source": [
    "# Model Architecture (LeNet)"
   ]
  },
  {
   "cell_type": "code",
   "execution_count": 6,
   "metadata": {
    "collapsed": false,
    "deletable": true,
    "editable": true
   },
   "outputs": [],
   "source": [
    "import tensorflow as tf\n",
    "from tensorflow.contrib.layers import flatten\n",
    "__VER = int(tf.__version__[0])\n",
    "\n",
    "def LeNet(x):    \n",
    "    # Arguments used for tf.truncated_normal, randomly defines variables for the weights and biases for each layer\n",
    "    mu = 0\n",
    "    sigma = 0.1\n",
    "    \n",
    "    # Layer 1: Convolutional. Input = 32x32xn_colors. Output = 28x28x6.\n",
    "    conv1_W = tf.Variable(tf.truncated_normal(shape=(5, 5, n_colors, 6), mean = mu, stddev = sigma))\n",
    "    conv1_b = tf.Variable(tf.zeros(6))\n",
    "    conv1   = tf.nn.conv2d(x, conv1_W, strides=[1, 1, 1, 1], padding='VALID') + conv1_b\n",
    "    \n",
    "    # Activation.\n",
    "    conv1 = tf.nn.relu(conv1)\n",
    "    stg_1 = conv1\n",
    "\n",
    "    # Pooling. Input = 28x28x6. Output = 14x14x6.\n",
    "    conv1 = tf.nn.max_pool(conv1, ksize=[1, 2, 2, 1], strides=[1, 2, 2, 1], padding='VALID')\n",
    "    conv1    = tf.nn.dropout(conv1,0.9)\n",
    "\n",
    "    # Layer 2: Convolutional. Output = 10x10x16.\n",
    "    conv2_W = tf.Variable(tf.truncated_normal(shape=(5, 5, 6, 16), mean = mu, stddev = sigma))\n",
    "    conv2_b = tf.Variable(tf.zeros(16))\n",
    "    conv2   = tf.nn.conv2d(conv1, conv2_W, strides=[1, 1, 1, 1], padding='VALID') + conv2_b\n",
    "    \n",
    "    \n",
    "    # Activation.\n",
    "    conv2 = tf.nn.relu(conv2)\n",
    "    stg_2 = conv2\n",
    "\n",
    "    # Pooling. Input = 10x10x16. Output = 5x5x16.\n",
    "    conv2 = tf.nn.max_pool(conv2, ksize=[1, 2, 2, 1], strides=[1, 2, 2, 1], padding='VALID')\n",
    "    conv2    = tf.nn.dropout(conv2,0.9)\n",
    "    \n",
    "    # Flatten. Input = 5x5x16. Output = 400.\n",
    "    fc0   = flatten(conv2)\n",
    "    \n",
    "    # We bypass from conv1\n",
    "    # Input 14x14x6 --> 7x7x6. Output = 294\n",
    "    conv1_bp = tf.nn.max_pool(conv1, ksize=[1, 2, 2, 1], strides=[1, 2, 2, 1], padding='VALID')\n",
    "    conv1_bp = flatten(conv1_bp)\n",
    "    \n",
    "    if (__VER==1):\n",
    "        fc0 = tf.concat([fc0,conv1_bp],1)  # ver 1.x\n",
    "    else:\n",
    "        fc0 = tf.concat(1, [fc0,conv1_bp]) # ver 0.x\n",
    "    \n",
    "    # Layer 3: Fully Connected. Input = 400+294. Output = 120.\n",
    "    fc1_W = tf.Variable(tf.truncated_normal(shape=(694, 120), mean = mu, stddev = sigma))\n",
    "    fc1_b = tf.Variable(tf.zeros(120))\n",
    "    fc1   = tf.matmul(fc0, fc1_W) + fc1_b\n",
    "    \n",
    "    # Activation.\n",
    "    fc1    = tf.nn.relu(fc1)\n",
    "    fc1    = tf.nn.dropout(fc1,0.9)\n",
    "\n",
    "    # Layer 4: Fully Connected. Input = 120. Output = 84.\n",
    "    fc2_W  = tf.Variable(tf.truncated_normal(shape=(120, 84), mean = mu, stddev = sigma))\n",
    "    fc2_b  = tf.Variable(tf.zeros(84))\n",
    "    fc2    = tf.matmul(fc1, fc2_W) + fc2_b\n",
    "    \n",
    "    # Activation.\n",
    "    fc2    = tf.nn.relu(fc2)\n",
    "    fc2    = tf.nn.dropout(fc2,0.9)\n",
    "\n",
    "    # Layer 5: Fully Connected. Input = 84. Output = n_classes (43).\n",
    "    fc3_W  = tf.Variable(tf.truncated_normal(shape=(84, n_classes), mean = mu, stddev = sigma))\n",
    "    fc3_b  = tf.Variable(tf.zeros(n_classes))\n",
    "    logits = tf.matmul(fc2, fc3_W) + fc3_b\n",
    "    \n",
    "    return [logits, stg_1, stg_2]"
   ]
  },
  {
   "cell_type": "markdown",
   "metadata": {
    "deletable": true,
    "editable": true
   },
   "source": [
    "### Train, Validate and Test the Model"
   ]
  },
  {
   "cell_type": "code",
   "execution_count": 7,
   "metadata": {
    "collapsed": true,
    "deletable": true,
    "editable": true
   },
   "outputs": [],
   "source": [
    "### hyperparameters\n",
    "EPOCHS = 15\n",
    "BATCH_SIZE = 128\n",
    "LEARN_RATE_GEAR_1 = 0.001\n",
    "LEARN_RATE_GEAR_2 = 0.0001\n",
    "SHIFT_GEAR = 10"
   ]
  },
  {
   "cell_type": "markdown",
   "metadata": {
    "deletable": true,
    "editable": true
   },
   "source": [
    "A validation set can be used to assess how well the model is performing. A low accuracy on the training and validation\n",
    "sets imply underfitting. A high accuracy on the training set but low accuracy on the validation set implies overfitting."
   ]
  },
  {
   "cell_type": "markdown",
   "metadata": {
    "deletable": true,
    "editable": true
   },
   "source": [
    "### PlaceHolders & Pipeline"
   ]
  },
  {
   "cell_type": "code",
   "execution_count": 8,
   "metadata": {
    "collapsed": false,
    "deletable": true,
    "editable": true
   },
   "outputs": [],
   "source": [
    "###\n",
    "### PlaceHolders\n",
    "x = tf.placeholder(tf.float32, (None, 32, 32, n_colors))\n",
    "y = tf.placeholder(tf.int32, (None))\n",
    "one_hot_y = tf.one_hot(y, n_classes)\n",
    "apriori = tf.placeholder(tf.float32, (None))\n",
    "rate = tf.placeholder(tf.float32)\n",
    "\n",
    "w_stg1 = tf.placeholder(tf.float32, (None, None, None, None))\n",
    "w_stg2 = tf.placeholder(tf.float32, (None, None, None, None))\n",
    "\n",
    "###\n",
    "### Main Pipeline\n",
    "logits, w_stg1, w_stg2 = LeNet(x)\n",
    "cross_entropy = tf.nn.softmax_cross_entropy_with_logits(labels=one_hot_y, logits=tf.add(logits,apriori))\n",
    "loss_operation = tf.reduce_mean(cross_entropy)\n",
    "optimizer = tf.train.AdamOptimizer(learning_rate = rate)\n",
    "training_operation = optimizer.minimize(loss_operation)\n",
    "\n",
    "###\n",
    "### Get top 5 probabilities \n",
    "TopKV2 = tf.nn.top_k(tf.add(logits,apriori), k=5)  "
   ]
  },
  {
   "cell_type": "markdown",
   "metadata": {
    "deletable": true,
    "editable": true
   },
   "source": [
    "### Evaluation"
   ]
  },
  {
   "cell_type": "code",
   "execution_count": null,
   "metadata": {
    "collapsed": true,
    "deletable": true,
    "editable": true
   },
   "outputs": [],
   "source": [
    "###\n",
    "### evaluate - evaluate the error. each miss identification has the same weight \n",
    "correct_prediction = tf.equal(tf.argmax(logits, 1), tf.argmax(one_hot_y, 1))\n",
    "accuracy_operation = tf.reduce_mean(tf.cast(correct_prediction, tf.float32))\n",
    "saver = tf.train.Saver()\n",
    "\n",
    "### evaluate: \n",
    "###   Input: X_data - the input data,  y_data - the correct sign index\n",
    "###   Output: fraction of correct estimation\n",
    "def evaluate(X_data, y_data):\n",
    "    num_examples = len(X_data)\n",
    "    total_accuracy = 0\n",
    "    sess = tf.get_default_session()\n",
    "    for offset in range(0, num_examples, BATCH_SIZE):\n",
    "        batch_x, batch_y = X_data[offset:offset+BATCH_SIZE], y_data[offset:offset+BATCH_SIZE]\n",
    "        accuracy = sess.run(accuracy_operation, feed_dict={x: batch_x, y: batch_y})\n",
    "        total_accuracy += (accuracy * len(batch_x))\n",
    "    return total_accuracy / num_examples\n",
    "\n",
    "\n",
    "### get_most_likely: \n",
    "###   Input: X_data - the input data\n",
    "###   Output: topK - top (5) logits and thier matching sign indexes\n",
    "def get_most_likely(X_data):\n",
    "    sess = tf.get_default_session()\n",
    "    topK = sess.run(TopKV2, feed_dict={x: X_data, apriori: a_priory_correct})\n",
    "    return topK\n",
    "    "
   ]
  },
  {
   "cell_type": "markdown",
   "metadata": {
    "deletable": true,
    "editable": true
   },
   "source": [
    "### Training"
   ]
  },
  {
   "cell_type": "code",
   "execution_count": null,
   "metadata": {
    "collapsed": false,
    "deletable": true,
    "editable": true
   },
   "outputs": [
    {
     "name": "stdout",
     "output_type": "stream",
     "text": [
      "Training...\n",
      "\n",
      "EPOCH 1 ...\n",
      "Validation Accuracy = 0.781 ; Train Accuracy = 0.883\n",
      "\n"
     ]
    }
   ],
   "source": [
    "###\n",
    "### Train the model with the train data and evaluate on the validation data.\n",
    "### We save the model once we finish\n",
    "with tf.Session() as sess:\n",
    "    sess.run(tf.global_variables_initializer())\n",
    "    num_examples = len(X_train)\n",
    "    learn_rate=LEARN_RATE_GEAR_1\n",
    "    print(\"Training...\")\n",
    "    print()\n",
    "    for i in range(EPOCHS):\n",
    "        if (i>=SHIFT_GEAR):\n",
    "            learn_rate=LEARN_RATE_GEAR_2\n",
    "            if (i==SHIFT_GEAR):\n",
    "                print(\"              Shift Gear\")\n",
    "        X_train, y_train = shuffle(X_train, y_train)\n",
    "        for offset in range(0, num_examples, BATCH_SIZE):\n",
    "            end = offset + BATCH_SIZE\n",
    "            batch_x, batch_y = X_train[offset:end], y_train[offset:end]\n",
    "            sess.run(training_operation, feed_dict={x: batch_x, y: batch_y, apriori: a_priory_correct, rate: learn_rate})\n",
    "            \n",
    "        validation_accuracy = evaluate(X_valid, y_valid)\n",
    "        train_accuracy = evaluate(X_train, y_train)\n",
    "        print(\"EPOCH {} ...\".format(i+1))\n",
    "        print(\"Validation Accuracy = {:.3f} ; Train Accuracy = {:.3f}\".format(validation_accuracy,train_accuracy))\n",
    "        print()\n",
    "    \n",
    "    test_accuracy = evaluate(X_test, y_test)\n",
    "    print(\"Test Accuracy = {:.3f} \".format(test_accuracy))\n",
    "    \n",
    "    saver.save(sess, './lenet_tarfic_sign_classifier')\n",
    "    print(\"Model saved\")"
   ]
  },
  {
   "cell_type": "markdown",
   "metadata": {
    "deletable": true,
    "editable": true
   },
   "source": [
    "---\n",
    "\n",
    "## Step 3: Test a Model on New Images\n",
    "\n",
    "To give yourself more insight into how your model is working, download at least five pictures of German traffic signs from the web and use your model to predict the traffic sign type.\n",
    "\n",
    "You may find `signnames.csv` useful as it contains mappings from the class id (integer) to the actual sign name."
   ]
  },
  {
   "cell_type": "markdown",
   "metadata": {
    "deletable": true,
    "editable": true
   },
   "source": [
    "### Load and Output the Images"
   ]
  },
  {
   "cell_type": "code",
   "execution_count": null,
   "metadata": {
    "collapsed": false,
    "deletable": true,
    "editable": true
   },
   "outputs": [],
   "source": [
    "###\n",
    "# 1) Load the images, \n",
    "# 2) change thier size to 32x32x3\n",
    "# 3) Plot them with thier sign number\n",
    "# 4) preprocess.\n",
    "###\n",
    "\n",
    "img_size = 32.0               # We need pictures that are 32x32\n",
    "y_new_img = [4,9,11,12,14,32]   # We correct signs indexes of the pictures\n",
    "n_new_img = len(y_new_img)    # We have 6 pictures\n",
    "\n",
    "###\n",
    "### Collect the 5 pictures to 1 4D array (5x32x32x3)\n",
    "### Plot each picture with the sign index\n",
    "X_new_img_org = np.zeros(shape=(n_new_img,int(img_size),int(img_size),3))\n",
    "plt.figure(figsize=(5,5))\n",
    "for i in range(n_new_img):\n",
    "    X = cv2.imread(\"sign_\" +str(y_new_img[i])+ \".jpg\")\n",
    "    X = cv2.resize(X , None, fx=(img_size / X.shape[1]), fy=(img_size / X.shape[0]), interpolation=cv2.INTER_CUBIC)\n",
    "    plt.subplot(2,3,i+1) \n",
    "    plt.imshow(cv2.cvtColor(X, cv2.COLOR_BGR2RGB))\n",
    "    plt.title(\"sign=#\"+str(y_new_img[i]))\n",
    "    X_new_img_org[i,:,:,:]=X\n"
   ]
  },
  {
   "cell_type": "markdown",
   "metadata": {
    "deletable": true,
    "editable": true
   },
   "source": [
    "# Predict the Sign Type for Each Image"
   ]
  },
  {
   "cell_type": "code",
   "execution_count": null,
   "metadata": {
    "collapsed": false,
    "deletable": true,
    "editable": true
   },
   "outputs": [],
   "source": [
    "###\n",
    "### pre-processing\n",
    "X_new_img = preprocess(X_new_img_org)\n",
    "\n",
    "###\n",
    "### restore the CNN and get the top 5 logits and thier matching sign indexes\n",
    "with tf.Session() as sess:\n",
    "    saver.restore(sess, \"./lenet_tarfic_sign_classifier\")\n",
    "    print(\"Model restored.\")\n",
    "    topK_mat = get_most_likely(X_new_img)\n",
    "\n",
    "\n",
    "### \n",
    "### Analyze Performance\n",
    "### Calculate the accuracy for these 5 new images. \n",
    "total_cor = ((topK_mat.indices[:,0]==y_new_img).sum())\n",
    "print(\"Total Correct Img = {}/{} = {:.2f}%\".format(total_cor,n_new_img,total_cor*100/n_new_img))\n",
    "\n",
    "\n",
    "###\n",
    "### Print out the top five softmax probabilities for the predictions on the German traffic sign images found on the web. \n",
    "### the softmax probabilities will take into account the a-priopri probabilties according to our configuration (\"a_priory_correct\")\n",
    "def softmax(x):\n",
    "    e_x = np.exp(x - np.max(x))\n",
    "    return e_x / e_x.sum()\n",
    "\n",
    "for i in range(n_new_img):\n",
    "    softmax_vec = softmax(topK_mat.values[i,:])\n",
    "    print(\"Softmax For pic_{}:\".format(i))\n",
    "    for j in range(5):\n",
    "        print(\"   Inx={:2d} with Pr={:.2e}\".format(topK_mat.indices[i,j], softmax_vec[j]))\n",
    "    print()"
   ]
  },
  {
   "cell_type": "markdown",
   "metadata": {
    "deletable": true,
    "editable": true
   },
   "source": [
    "### Output Top 5 Softmax Probabilities For Each Image Found on the Web"
   ]
  },
  {
   "cell_type": "markdown",
   "metadata": {
    "deletable": true,
    "editable": true
   },
   "source": [
    "For each of the new images, print out the model's softmax probabilities to show the **certainty** of the model's predictions (limit the output to the top 5 probabilities for each image). [`tf.nn.top_k`](https://www.tensorflow.org/versions/r0.12/api_docs/python/nn.html#top_k) could prove helpful here. \n",
    "\n",
    "The example below demonstrates how tf.nn.top_k can be used to find the top k predictions for each image.\n",
    "\n",
    "`tf.nn.top_k` will return the values and indices (class ids) of the top k predictions. So if k=3, for each sign, it'll return the 3 largest probabilities (out of a possible 43) and the correspoding class ids.\n",
    "\n",
    "Take this numpy array as an example. The values in the array represent predictions. The array contains softmax probabilities for five candidate images with six possible classes. `tk.nn.top_k` is used to choose the three classes with the highest probability:\n",
    "\n",
    "```\n",
    "# (5, 6) array\n",
    "a = np.array([[ 0.24879643,  0.07032244,  0.12641572,  0.34763842,  0.07893497,\n",
    "         0.12789202],\n",
    "       [ 0.28086119,  0.27569815,  0.08594638,  0.0178669 ,  0.18063401,\n",
    "         0.15899337],\n",
    "       [ 0.26076848,  0.23664738,  0.08020603,  0.07001922,  0.1134371 ,\n",
    "         0.23892179],\n",
    "       [ 0.11943333,  0.29198961,  0.02605103,  0.26234032,  0.1351348 ,\n",
    "         0.16505091],\n",
    "       [ 0.09561176,  0.34396535,  0.0643941 ,  0.16240774,  0.24206137,\n",
    "         0.09155967]])\n",
    "```\n",
    "\n",
    "Running it through `sess.run(tf.nn.top_k(tf.constant(a), k=3))` produces:\n",
    "\n",
    "```\n",
    "TopKV2(values=array([[ 0.34763842,  0.24879643,  0.12789202],\n",
    "       [ 0.28086119,  0.27569815,  0.18063401],\n",
    "       [ 0.26076848,  0.23892179,  0.23664738],\n",
    "       [ 0.29198961,  0.26234032,  0.16505091],\n",
    "       [ 0.34396535,  0.24206137,  0.16240774]]), indices=array([[3, 0, 5],\n",
    "       [0, 1, 4],\n",
    "       [0, 5, 1],\n",
    "       [1, 3, 5],\n",
    "       [1, 4, 3]], dtype=int32))\n",
    "```\n",
    "\n",
    "Looking just at the first row we get `[ 0.34763842,  0.24879643,  0.12789202]`, you can confirm these are the 3 largest probabilities in `a`. You'll also notice `[3, 0, 5]` are the corresponding indices."
   ]
  },
  {
   "cell_type": "markdown",
   "metadata": {
    "deletable": true,
    "editable": true
   },
   "source": [
    "---\n",
    "\n",
    "## Step 4: Visualize the Neural Network's State with Test Images\n",
    "\n",
    " This Section is not required to complete but acts as an additional excersise for understaning the output of a neural network's weights. While neural networks can be a great learning device they are often referred to as a black box. We can understand what the weights of a neural network look like better by plotting their feature maps. After successfully training your neural network you can see what it's feature maps look like by plotting the output of the network's weight layers in response to a test stimuli image. From these plotted feature maps, it's possible to see what characteristics of an image the network finds interesting. For a sign, maybe the inner network feature maps react with high activation to the sign's boundary outline or to the contrast in the sign's painted symbol.\n",
    "\n",
    " Provided for you below is the function code that allows you to get the visualization output of any tensorflow weight layer you want. The inputs to the function should be a stimuli image, one used during training or a new one you provided, and then the tensorflow variable name that represents the layer's state during the training process, for instance if you wanted to see what the [LeNet lab's](https://classroom.udacity.com/nanodegrees/nd013/parts/fbf77062-5703-404e-b60c-95b78b2f3f9e/modules/6df7ae49-c61c-4bb2-a23e-6527e69209ec/lessons/601ae704-1035-4287-8b11-e2c2716217ad/concepts/d4aca031-508f-4e0b-b493-e7b706120f81) feature maps looked like for it's second convolutional layer you could enter conv2 as the tf_activation variable.\n",
    "\n",
    "For an example of what feature map outputs look like, check out NVIDIA's results in their paper [End-to-End Deep Learning for Self-Driving Cars](https://devblogs.nvidia.com/parallelforall/deep-learning-self-driving-cars/) in the section Visualization of internal CNN State. NVIDIA was able to show that their network's inner weights had high activations to road boundary lines by comparing feature maps from an image with a clear path to one without. Try experimenting with a similar test to show that your trained network's weights are looking for interesting features, whether it's looking at differences in feature maps from images with or without a sign, or even what feature maps look like in a trained network vs a completely untrained one on the same sign image.\n",
    "\n",
    "<figure>\n",
    " <img src=\"visualize_cnn.png\" width=\"380\" alt=\"Combined Image\" />\n",
    " <figcaption>\n",
    " <p></p> \n",
    " <p style=\"text-align: center;\"> Your output should look something like this (above)</p> \n",
    " </figcaption>\n",
    "</figure>\n",
    " <p></p> \n"
   ]
  },
  {
   "cell_type": "code",
   "execution_count": null,
   "metadata": {
    "collapsed": true,
    "deletable": true,
    "editable": true
   },
   "outputs": [],
   "source": [
    "### Visualize your network's feature maps here.\n",
    "### Feel free to use as many code cells as needed.\n",
    "\n",
    "# image_input: the test image being fed into the network to produce the feature maps\n",
    "# tf_activation: should be a tf variable name used during your training procedure that represents the calculated state of a specific weight layer\n",
    "# activation_min/max: can be used to view the activation contrast in more detail, by default matplot sets min and max to the actual min and max values of the output\n",
    "# plt_num: used to plot out multiple different weight feature map sets on the same block, just extend the plt number for each new feature map entry\n",
    "\n",
    "def outputFeatureMap(image_input, tf_activation, activation_min=-1, activation_max=-1 ,plt_num=1):\n",
    "    # Here make sure to preprocess your image_input in a way your network expects\n",
    "    # with size, normalization, ect if needed\n",
    "    # image_input =\n",
    "    # Note: x should be the same name as your network's tensorflow data placeholder variable\n",
    "    # If you get an error tf_activation is not defined it maybe having trouble accessing the variable from inside a function\n",
    "    activation = tf_activation.eval(session=sess,feed_dict={x : image_input})\n",
    "    featuremaps = activation.shape[3]\n",
    "    plt.figure(plt_num, figsize=(15,15))\n",
    "    for featuremap in range(featuremaps):\n",
    "        plt.subplot(6,8, featuremap+1) # sets the number of feature maps to show on each row and column\n",
    "        plt.title('FeatureMap ' + str(featuremap)) # displays the feature map number\n",
    "        if activation_min != -1 & activation_max != -1:\n",
    "            plt.imshow(activation[0,:,:, featuremap], interpolation=\"nearest\", vmin =activation_min, vmax=activation_max, cmap=\"gray\")\n",
    "        elif activation_max != -1:\n",
    "            plt.imshow(activation[0,:,:, featuremap], interpolation=\"nearest\", vmax=activation_max, cmap=\"gray\")\n",
    "        elif activation_min !=-1:\n",
    "            plt.imshow(activation[0,:,:, featuremap], interpolation=\"nearest\", vmin=activation_min, cmap=\"gray\")\n",
    "        else:\n",
    "            plt.imshow(activation[0,:,:, featuremap], interpolation=\"nearest\", cmap=\"gray\")"
   ]
  },
  {
   "cell_type": "code",
   "execution_count": null,
   "metadata": {
    "collapsed": false
   },
   "outputs": [],
   "source": [
    "with tf.Session() as sess:\n",
    "    saver.restore(sess, \"./lenet_tarfic_sign_classifier\")\n",
    "    print(\"Model restored.\")\n",
    "    \n",
    "    print()\n",
    "    print(\"Feature Map Stage 1:\")\n",
    "    outputFeatureMap(X_new_img, w_stg1, plt_num=1)\n"
   ]
  },
  {
   "cell_type": "code",
   "execution_count": null,
   "metadata": {
    "collapsed": false
   },
   "outputs": [],
   "source": [
    "with tf.Session() as sess:\n",
    "    saver.restore(sess, \"./lenet_tarfic_sign_classifier\")\n",
    "    print(\"Model restored.\")\n",
    "    \n",
    "    print()\n",
    "    print(\"Feature Map Stage 2:\")\n",
    "    outputFeatureMap(X_new_img, w_stg2, plt_num=2)"
   ]
  },
  {
   "cell_type": "markdown",
   "metadata": {
    "deletable": true,
    "editable": true
   },
   "source": [
    "### Question 9\n",
    "\n",
    "Discuss how you used the visual output of your trained network's feature maps to show that it had learned to look for interesting characteristics in traffic sign images\n"
   ]
  },
  {
   "cell_type": "markdown",
   "metadata": {
    "deletable": true,
    "editable": true
   },
   "source": [
    "**Answer:**"
   ]
  },
  {
   "cell_type": "markdown",
   "metadata": {
    "deletable": true,
    "editable": true
   },
   "source": [
    "> **Note**: Once you have completed all of the code implementations and successfully answered each question above, you may finalize your work by exporting the iPython Notebook as an HTML document. You can do this by using the menu above and navigating to  \\n\",\n",
    "    \"**File -> Download as -> HTML (.html)**. Include the finished document along with this notebook as your submission."
   ]
  },
  {
   "cell_type": "markdown",
   "metadata": {
    "deletable": true,
    "editable": true
   },
   "source": [
    "### Project Writeup\n",
    "\n",
    "Once you have completed the code implementation, document your results in a project writeup using this [template](https://github.com/udacity/CarND-Traffic-Sign-Classifier-Project/blob/master/writeup_template.md) as a guide. The writeup can be in a markdown or pdf file. "
   ]
  }
 ],
 "metadata": {
  "anaconda-cloud": {},
  "kernelspec": {
   "display_name": "Python 3",
   "language": "python",
   "name": "python3"
  },
  "language_info": {
   "codemirror_mode": {
    "name": "ipython",
    "version": 3
   },
   "file_extension": ".py",
   "mimetype": "text/x-python",
   "name": "python",
   "nbconvert_exporter": "python",
   "pygments_lexer": "ipython3",
   "version": "3.5.2"
  },
  "widgets": {
   "state": {},
   "version": "1.1.2"
  }
 },
 "nbformat": 4,
 "nbformat_minor": 1
}
